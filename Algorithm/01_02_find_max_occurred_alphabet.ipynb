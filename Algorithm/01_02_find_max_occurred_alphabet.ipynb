{
 "cells": [
  {
   "cell_type": "markdown",
   "id": "42c4a2c8",
   "metadata": {},
   "source": [
    "### [코드스니펫] 최빈값 찾기"
   ]
  },
  {
   "cell_type": "code",
   "execution_count": null,
   "id": "e6246e94",
   "metadata": {},
   "outputs": [],
   "source": [
    "def find_max_occurred_alphabet(string):\n",
    "    # 이 부분을 채워보세요!\n",
    "    return \"a\"\n",
    "\n",
    "\n",
    "result = find_max_occurred_alphabet\n",
    "print(\"정답 = i 현재 풀이 값 =\", result(\"hello my name is dingcodingco\"))\n",
    "print(\"정답 = e 현재 풀이 값 =\", result(\"we love algorithm\"))\n",
    "print(\"정답 = b 현재 풀이 값 =\", result(\"best of best youtube\"))"
   ]
  },
  {
   "cell_type": "markdown",
   "id": "35859f6b",
   "metadata": {},
   "source": [
    "---\n",
    "### My solution\n",
    "#### 1. Counter 사용"
   ]
  },
  {
   "cell_type": "code",
   "execution_count": 26,
   "id": "bb956753",
   "metadata": {},
   "outputs": [],
   "source": [
    "from collections import Counter\n",
    "\n",
    "def find_max_occurred_alphabet(string):\n",
    "    counter = Counter(string)\n",
    "    return counter.most_common(1)[0][0]  # 가장 많이 나온 문자 반환"
   ]
  },
  {
   "cell_type": "code",
   "execution_count": 27,
   "id": "f9c6c04d",
   "metadata": {},
   "outputs": [
    {
     "name": "stdout",
     "output_type": "stream",
     "text": [
      "정답 = i 현재 풀이 값 =  \n",
      "정답 = e 현재 풀이 값 = e\n",
      "정답 = b 현재 풀이 값 = b\n"
     ]
    }
   ],
   "source": [
    "result = find_max_occurred_alphabet\n",
    "\n",
    "print(\"정답 = i 현재 풀이 값 =\", result(\"hello my name is dingcodingco\"))\n",
    "print(\"정답 = e 현재 풀이 값 =\", result(\"we love algorithm\"))\n",
    "print(\"정답 = b 현재 풀이 값 =\", result(\"best of best youtube\"))"
   ]
  },
  {
   "cell_type": "markdown",
   "id": "edc57b87",
   "metadata": {},
   "source": [
    "#### 2. for문 사용"
   ]
  },
  {
   "cell_type": "code",
   "execution_count": null,
   "id": "b3cee444",
   "metadata": {},
   "outputs": [],
   "source": [
    "def find_max_occurred_alphabet(string):\n",
    "    count_list = []\n",
    "\n",
    "    for i in range(len(string)):\n",
    "        cnt = 0\n",
    "        for j in range(len(string)):\n",
    "            if string[i] == string[j]:\n",
    "                cnt += 1\n",
    "        count_list.append(cnt)\n",
    "\n",
    "    max_index = count_list.index(max(count_list))\n",
    "    return string[max_index]"
   ]
  },
  {
   "cell_type": "code",
   "execution_count": 29,
   "id": "d03d0524",
   "metadata": {},
   "outputs": [
    {
     "name": "stdout",
     "output_type": "stream",
     "text": [
      "정답 = i 현재 풀이 값 =  \n",
      "정답 = e 현재 풀이 값 = e\n",
      "정답 = b 현재 풀이 값 = b\n"
     ]
    }
   ],
   "source": [
    "result = find_max_occurred_alphabet\n",
    "\n",
    "print(\"정답 = i 현재 풀이 값 =\", result(\"hello my name is dingcodingco\"))\n",
    "print(\"정답 = e 현재 풀이 값 =\", result(\"we love algorithm\"))\n",
    "print(\"정답 = b 현재 풀이 값 =\", result(\"best of best youtube\"))"
   ]
  },
  {
   "cell_type": "markdown",
   "id": "0cc34559",
   "metadata": {},
   "source": [
    "---\n",
    "\n",
    "### >>> Tip!\n",
    "- `str.isalpha()` 를 이용하면 해당 문자열이 알파벳인지 확인 가능  \n",
    "\n",
    "```python\n",
    "print(\"a\".isalpha())    # True\n",
    "print(\"1\".isalpha())    # False\n",
    "\n",
    "s = \"abcdefg\"\n",
    "print(s[0].isalpha())   # True\n",
    "```  \n",
    "</br>\n",
    "\n",
    "- 알파벳 별로 빈도수를 리스트에 저장하기\n",
    "    - **아스키 (ASCII) 코드** 사용  \n",
    "  \n",
    "```python\n",
    "# 내장 함수 ord() 이용해서 아스키 값 받기\n",
    "print(ord('a'))               # 97\n",
    "print(ord('a') - ord('a'))    # 97-97 -> 0\n",
    "print(ord('b') - ord('a'))    # 98-97 -> 1\n",
    "```\n"
   ]
  },
  {
   "cell_type": "code",
   "execution_count": 33,
   "id": "40fe884e",
   "metadata": {},
   "outputs": [],
   "source": [
    "# [코드스니펫] 알파벳 빈도수 세기\n",
    "\n",
    "def find_alphabet_occurrence_array(string):\n",
    "    alphabet_occurrence_array = [0] * 26\n",
    "\n",
    "    for char in string:\n",
    "        if not char.isalpha():\n",
    "            continue\n",
    "        arr_index = ord(char) - ord('a')\n",
    "        alphabet_occurrence_array[arr_index] += 1\n",
    "\n",
    "    return alphabet_occurrence_array"
   ]
  },
  {
   "cell_type": "code",
   "execution_count": 34,
   "id": "2f618167",
   "metadata": {},
   "outputs": [
    {
     "name": "stdout",
     "output_type": "stream",
     "text": [
      "정답 = [1, 0, 2, 2, 2, 0, 2, 1, 3, 0, 0, 2, 2, 3, 3, 0, 0, 0, 1, 0, 0, 0, 0, 0, 1, 0] \n",
      "현재 풀이 값 = [1, 0, 2, 2, 2, 0, 2, 1, 3, 0, 0, 2, 2, 3, 3, 0, 0, 0, 1, 0, 0, 0, 0, 0, 1, 0]\n",
      "정답 = [1, 0, 0, 0, 2, 0, 1, 1, 1, 0, 0, 2, 1, 0, 2, 0, 0, 1, 0, 1, 0, 1, 1, 0, 0, 0] \n",
      "현재 풀이 값 = [1, 0, 0, 0, 2, 0, 1, 1, 1, 0, 0, 2, 1, 0, 2, 0, 0, 1, 0, 1, 0, 1, 1, 0, 0, 0]\n",
      "정답 = [0, 3, 0, 0, 3, 1, 0, 0, 0, 0, 0, 0, 0, 0, 2, 0, 0, 0, 2, 3, 2, 0, 0, 0, 1, 0] \n",
      "현재 풀이 값 = [0, 3, 0, 0, 3, 1, 0, 0, 0, 0, 0, 0, 0, 0, 2, 0, 0, 0, 2, 3, 2, 0, 0, 0, 1, 0]\n"
     ]
    }
   ],
   "source": [
    "print(\"정답 = [1, 0, 2, 2, 2, 0, 2, 1, 3, 0, 0, 2, 2, 3, 3, 0, 0, 0, 1, 0, 0, 0, 0, 0, 1, 0] \\n현재 풀이 값 =\",\n",
    "      find_alphabet_occurrence_array(\"hello my name is dingcodingco\"))\n",
    "print(\"정답 = [1, 0, 0, 0, 2, 0, 1, 1, 1, 0, 0, 2, 1, 0, 2, 0, 0, 1, 0, 1, 0, 1, 1, 0, 0, 0] \\n현재 풀이 값 =\",\n",
    "      find_alphabet_occurrence_array(\"we love algorithm\"))\n",
    "print(\"정답 = [0, 3, 0, 0, 3, 1, 0, 0, 0, 0, 0, 0, 0, 0, 2, 0, 0, 0, 2, 3, 2, 0, 0, 0, 1, 0] \\n현재 풀이 값 =\",\n",
    "      find_alphabet_occurrence_array(\"best of best youtube\"))"
   ]
  },
  {
   "cell_type": "markdown",
   "id": "84e8da92",
   "metadata": {},
   "source": [
    "---\n",
    "### Solution\n",
    "#### 1. 각 알파벳마다 문자열을 돌면서 몇 글자 나왔는지 확인\n",
    " - 그 숫자가 저장한 알파벳 빈도 수보다 크다면, 그 값을 저장하고 제일 큰 알파벳으로 저장"
   ]
  },
  {
   "cell_type": "code",
   "execution_count": 35,
   "id": "bfe08682",
   "metadata": {},
   "outputs": [],
   "source": [
    "def find_max_occurred_alphabet(string):\n",
    "    alphabet_array = [\"a\", \"b\", \"c\", \"d\", \"e\", \"f\", \"g\", \"h\", \"i\", \"j\", \"k\", \"l\", \"m\", \"n\", \"o\", \"p\", \"q\", \"r\", \"s\",\n",
    "                      \"t\", \"u\", \"v\", \"x\", \"y\", \"z\"]\n",
    "    max_occurrence = 0\n",
    "    max_alphabet = alphabet_array[0]\n",
    "\n",
    "    for alphabet in alphabet_array:\n",
    "        occurrence = 0\n",
    "        for char in string:\n",
    "            if char == alphabet:\n",
    "                occurrence += 1\n",
    "\n",
    "        if occurrence > max_occurrence:\n",
    "            max_alphabet = alphabet\n",
    "            max_occurrence = occurrence\n",
    "\n",
    "    return max_alphabet"
   ]
  },
  {
   "cell_type": "code",
   "execution_count": 36,
   "id": "19cfc2ec",
   "metadata": {},
   "outputs": [
    {
     "name": "stdout",
     "output_type": "stream",
     "text": [
      "정답 = i 현재 풀이 값 = i\n",
      "정답 = e 현재 풀이 값 = e\n",
      "정답 = b 현재 풀이 값 = b\n"
     ]
    }
   ],
   "source": [
    "print(\"정답 = i 현재 풀이 값 =\", find_max_occurred_alphabet(\"hello my name is dingcodingco\"))\n",
    "print(\"정답 = e 현재 풀이 값 =\", find_max_occurred_alphabet(\"we love algorithm\"))\n",
    "print(\"정답 = b 현재 풀이 값 =\", find_max_occurred_alphabet(\"best of best youtube\"))"
   ]
  },
  {
   "cell_type": "markdown",
   "id": "e00cd484",
   "metadata": {},
   "source": [
    "#### 2. 각 알파벳의 빈도수를 alphabet_occurrence_list 라는 변수에 저장\n",
    "- 각 문자열을 돌면서 해당 문자가 알파벳인지 확인하고, 알파벳을 인덱스 화 시켜 각 알파벳의 빈도수를 업데이트"
   ]
  },
  {
   "cell_type": "code",
   "execution_count": null,
   "id": "8b313a20",
   "metadata": {},
   "outputs": [],
   "source": [
    "def find_max_occurred_alphabet(string):\n",
    "    # 각 알파벳의 빈도수를 저장한 배열을 만든다.\n",
    "    alphabet_occurrence_array = [0] * 26\n",
    "\n",
    "    for char in string:\n",
    "        if not char.isalpha():      # 해당 문자가 알파벳인지 검사\n",
    "            continue\n",
    "        arr_index = ord(char) - ord('a')        # 해당 문자를 인덱스로 치환. a -> 0, b -> 1 ...\n",
    "        alphabet_occurrence_array[arr_index] += 1       # 빈도수 배열에 인덱스로 찾아가 알파벳의 빈도수 업데이트\n",
    "\n",
    "\n",
    "    max_occurrence = 0\n",
    "    max_alphabet_index = 0\n",
    "\n",
    "    for index in range(len(alphabet_occurrence_array)):     # 0, 1, ..., 25\n",
    "        alphabet_occurrence = alphabet_occurrence_array[index]\n",
    "\n",
    "        if alphabet_occurrence > max_occurrence:\n",
    "            max_occurrence = alphabet_occurrence\n",
    "            max_alphabet_index = index\n",
    "\n",
    "    return chr(max_alphabet_index + ord('a'))\n",
    "\n",
    "# char(97) == 'a'\n",
    "# char(0 + ord('a')) == 'a'\n",
    "# char(0 + 97) == 'a'\n",
    "# char(1 + 97) == 'b'"
   ]
  },
  {
   "cell_type": "code",
   "execution_count": 38,
   "id": "ec6a72ea",
   "metadata": {},
   "outputs": [
    {
     "name": "stdout",
     "output_type": "stream",
     "text": [
      "정답 = i 현재 풀이 값 = i\n",
      "정답 = e 현재 풀이 값 = e\n",
      "정답 = b 현재 풀이 값 = b\n"
     ]
    }
   ],
   "source": [
    "result = find_max_occurred_alphabet\n",
    "\n",
    "print(\"정답 = i 현재 풀이 값 =\", result(\"hello my name is dingcodingco\"))\n",
    "print(\"정답 = e 현재 풀이 값 =\", result(\"we love algorithm\"))\n",
    "print(\"정답 = b 현재 풀이 값 =\", result(\"best of best youtube\"))"
   ]
  },
  {
   "cell_type": "markdown",
   "id": "ba0ca676",
   "metadata": {},
   "source": [
    "---\n",
    "\n",
    "#### _ASCII 코드와 알파벳 빈도수_\n",
    "- 'a' → ord() → 97 → chr() → 'a'\n",
    "- 'b' → ord() → 98 → chr() → 'b'"
   ]
  }
 ],
 "metadata": {
  "kernelspec": {
   "display_name": "base",
   "language": "python",
   "name": "python3"
  },
  "language_info": {
   "codemirror_mode": {
    "name": "ipython",
    "version": 3
   },
   "file_extension": ".py",
   "mimetype": "text/x-python",
   "name": "python",
   "nbconvert_exporter": "python",
   "pygments_lexer": "ipython3",
   "version": "3.11.11"
  }
 },
 "nbformat": 4,
 "nbformat_minor": 5
}
